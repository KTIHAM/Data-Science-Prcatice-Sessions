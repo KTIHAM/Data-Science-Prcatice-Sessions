{
  "nbformat": 4,
  "nbformat_minor": 0,
  "metadata": {
    "colab": {
      "name": "Project.ipynb",
      "provenance": [],
      "collapsed_sections": [],
      "authorship_tag": "ABX9TyMQibaVaQEBLrcyfeQ3qYOV",
      "include_colab_link": true
    },
    "kernelspec": {
      "name": "python3",
      "display_name": "Python 3"
    }
  },
  "cells": [
    {
      "cell_type": "markdown",
      "metadata": {
        "id": "view-in-github",
        "colab_type": "text"
      },
      "source": [
        "<a href=\"https://colab.research.google.com/github/KTIHAM/Data-Science-Prcatice-Sessions/blob/master/Project.ipynb\" target=\"_parent\"><img src=\"https://colab.research.google.com/assets/colab-badge.svg\" alt=\"Open In Colab\"/></a>"
      ]
    },
    {
      "cell_type": "code",
      "metadata": {
        "id": "NLtzxByVNN_V",
        "colab_type": "code",
        "colab": {}
      },
      "source": [
        "import numpy as np\n",
        "import pandas as pd"
      ],
      "execution_count": null,
      "outputs": []
    },
    {
      "cell_type": "code",
      "metadata": {
        "id": "-dd2djyaNuGz",
        "colab_type": "code",
        "colab": {
          "base_uri": "https://localhost:8080/",
          "height": 85
        },
        "outputId": "c3e13453-61d7-4be4-b8b5-be0d5e2d4174"
      },
      "source": [
        "s = ([1, np.nan, 'Pandas Library'])\n",
        "s1 = pd.Series(s)\n",
        "s1"
      ],
      "execution_count": null,
      "outputs": [
        {
          "output_type": "execute_result",
          "data": {
            "text/plain": [
              "0                 1\n",
              "1               NaN\n",
              "2    Pandas Library\n",
              "dtype: object"
            ]
          },
          "metadata": {
            "tags": []
          },
          "execution_count": 250
        }
      ]
    },
    {
      "cell_type": "code",
      "metadata": {
        "id": "YZLCR0EjOKtk",
        "colab_type": "code",
        "colab": {
          "base_uri": "https://localhost:8080/",
          "height": 85
        },
        "outputId": "4a6e0d9d-d548-4ec9-a302-73838b674d38"
      },
      "source": [
        "s2 = np.array([2, np.nan, 'b'])\n",
        "s2 = pd.Series(s2)\n",
        "s2"
      ],
      "execution_count": null,
      "outputs": [
        {
          "output_type": "execute_result",
          "data": {
            "text/plain": [
              "0      2\n",
              "1    nan\n",
              "2      b\n",
              "dtype: object"
            ]
          },
          "metadata": {
            "tags": []
          },
          "execution_count": 251
        }
      ]
    },
    {
      "cell_type": "code",
      "metadata": {
        "id": "yuWkIwaOPFYh",
        "colab_type": "code",
        "colab": {
          "base_uri": "https://localhost:8080/",
          "height": 85
        },
        "outputId": "1297d07b-8508-4eba-f1c6-206e76e05877"
      },
      "source": [
        "list1 = ['Tiham', '01', 'Best']\n",
        "s3 = pd.Series(list1)\n",
        "s3"
      ],
      "execution_count": null,
      "outputs": [
        {
          "output_type": "execute_result",
          "data": {
            "text/plain": [
              "0    Tiham\n",
              "1       01\n",
              "2     Best\n",
              "dtype: object"
            ]
          },
          "metadata": {
            "tags": []
          },
          "execution_count": 252
        }
      ]
    },
    {
      "cell_type": "code",
      "metadata": {
        "id": "pMM-6cIxPacL",
        "colab_type": "code",
        "colab": {
          "base_uri": "https://localhost:8080/",
          "height": 85
        },
        "outputId": "c2f4baee-a845-4324-8e2a-6f3f4225e2d6"
      },
      "source": [
        "list2 = [3, 'c', 'Numpy']\n",
        "s4 = pd.Series(list2)\n",
        "s4"
      ],
      "execution_count": null,
      "outputs": [
        {
          "output_type": "execute_result",
          "data": {
            "text/plain": [
              "0        3\n",
              "1        c\n",
              "2    Numpy\n",
              "dtype: object"
            ]
          },
          "metadata": {
            "tags": []
          },
          "execution_count": 253
        }
      ]
    },
    {
      "cell_type": "code",
      "metadata": {
        "id": "lz8nv0N5P3vB",
        "colab_type": "code",
        "colab": {
          "base_uri": "https://localhost:8080/",
          "height": 68
        },
        "outputId": "119956bd-49cd-4f7d-f7ef-295aac45480b"
      },
      "source": [
        "# Writing a Library\n",
        "lib = pd.Series({'A': 1, '3': 'Python'})\n",
        "lib \n"
      ],
      "execution_count": null,
      "outputs": [
        {
          "output_type": "execute_result",
          "data": {
            "text/plain": [
              "A         1\n",
              "3    Python\n",
              "dtype: object"
            ]
          },
          "metadata": {
            "tags": []
          },
          "execution_count": 254
        }
      ]
    },
    {
      "cell_type": "code",
      "metadata": {
        "id": "88GtrPRiQbTi",
        "colab_type": "code",
        "colab": {
          "base_uri": "https://localhost:8080/",
          "height": 68
        },
        "outputId": "36d8adbc-f093-40db-e8ce-26bf33512a93"
      },
      "source": [
        "lib2 = pd.Series({'int': 3, 'B':'boys'})\n",
        "lib2"
      ],
      "execution_count": null,
      "outputs": [
        {
          "output_type": "execute_result",
          "data": {
            "text/plain": [
              "int       3\n",
              "B      boys\n",
              "dtype: object"
            ]
          },
          "metadata": {
            "tags": []
          },
          "execution_count": 255
        }
      ]
    },
    {
      "cell_type": "code",
      "metadata": {
        "id": "vLW0KODkbPka",
        "colab_type": "code",
        "colab": {
          "base_uri": "https://localhost:8080/",
          "height": 561
        },
        "outputId": "0c85aae9-9616-44ab-991e-b841643f66de"
      },
      "source": [
        "df.info()"
      ],
      "execution_count": null,
      "outputs": [
        {
          "output_type": "stream",
          "text": [
            "<class 'pandas.core.frame.DataFrame'>\n",
            "RangeIndex: 10 entries, 0 to 9\n",
            "Data columns (total 25 columns):\n",
            " #   Column  Non-Null Count  Dtype  \n",
            "---  ------  --------------  -----  \n",
            " 0   0       10 non-null     float64\n",
            " 1   1       10 non-null     float64\n",
            " 2   2       10 non-null     float64\n",
            " 3   3       10 non-null     float64\n",
            " 4   4       10 non-null     float64\n",
            " 5   5       10 non-null     float64\n",
            " 6   6       10 non-null     float64\n",
            " 7   7       10 non-null     float64\n",
            " 8   8       10 non-null     float64\n",
            " 9   9       10 non-null     float64\n",
            " 10  10      10 non-null     float64\n",
            " 11  11      10 non-null     float64\n",
            " 12  12      10 non-null     float64\n",
            " 13  13      10 non-null     float64\n",
            " 14  14      10 non-null     float64\n",
            " 15  15      10 non-null     float64\n",
            " 16  16      10 non-null     float64\n",
            " 17  17      10 non-null     float64\n",
            " 18  18      10 non-null     float64\n",
            " 19  19      10 non-null     float64\n",
            " 20  20      10 non-null     float64\n",
            " 21  21      10 non-null     float64\n",
            " 22  22      10 non-null     float64\n",
            " 23  23      10 non-null     float64\n",
            " 24  24      10 non-null     float64\n",
            "dtypes: float64(25)\n",
            "memory usage: 2.1 KB\n"
          ],
          "name": "stdout"
        }
      ]
    },
    {
      "cell_type": "code",
      "metadata": {
        "id": "yRlM-N2SbaH0",
        "colab_type": "code",
        "colab": {
          "base_uri": "https://localhost:8080/",
          "height": 317
        },
        "outputId": "71cededa-0ff4-426d-cf42-8e8bd8ca81a5"
      },
      "source": [
        "df.describe()"
      ],
      "execution_count": null,
      "outputs": [
        {
          "output_type": "execute_result",
          "data": {
            "text/html": [
              "<div>\n",
              "<style scoped>\n",
              "    .dataframe tbody tr th:only-of-type {\n",
              "        vertical-align: middle;\n",
              "    }\n",
              "\n",
              "    .dataframe tbody tr th {\n",
              "        vertical-align: top;\n",
              "    }\n",
              "\n",
              "    .dataframe thead th {\n",
              "        text-align: right;\n",
              "    }\n",
              "</style>\n",
              "<table border=\"1\" class=\"dataframe\">\n",
              "  <thead>\n",
              "    <tr style=\"text-align: right;\">\n",
              "      <th></th>\n",
              "      <th>0</th>\n",
              "      <th>1</th>\n",
              "      <th>2</th>\n",
              "      <th>3</th>\n",
              "      <th>4</th>\n",
              "      <th>5</th>\n",
              "      <th>6</th>\n",
              "      <th>7</th>\n",
              "      <th>8</th>\n",
              "      <th>9</th>\n",
              "      <th>10</th>\n",
              "      <th>11</th>\n",
              "      <th>12</th>\n",
              "      <th>13</th>\n",
              "      <th>14</th>\n",
              "      <th>15</th>\n",
              "      <th>16</th>\n",
              "      <th>17</th>\n",
              "      <th>18</th>\n",
              "      <th>19</th>\n",
              "      <th>20</th>\n",
              "      <th>21</th>\n",
              "      <th>22</th>\n",
              "      <th>23</th>\n",
              "      <th>24</th>\n",
              "    </tr>\n",
              "  </thead>\n",
              "  <tbody>\n",
              "    <tr>\n",
              "      <th>count</th>\n",
              "      <td>10.000000</td>\n",
              "      <td>10.000000</td>\n",
              "      <td>10.000000</td>\n",
              "      <td>10.000000</td>\n",
              "      <td>10.000000</td>\n",
              "      <td>10.000000</td>\n",
              "      <td>10.000000</td>\n",
              "      <td>10.000000</td>\n",
              "      <td>10.000000</td>\n",
              "      <td>10.000000</td>\n",
              "      <td>10.000000</td>\n",
              "      <td>10.000000</td>\n",
              "      <td>10.000000</td>\n",
              "      <td>10.000000</td>\n",
              "      <td>10.000000</td>\n",
              "      <td>10.000000</td>\n",
              "      <td>10.000000</td>\n",
              "      <td>10.000000</td>\n",
              "      <td>10.000000</td>\n",
              "      <td>10.000000</td>\n",
              "      <td>10.000000</td>\n",
              "      <td>10.000000</td>\n",
              "      <td>10.000000</td>\n",
              "      <td>10.000000</td>\n",
              "      <td>10.000000</td>\n",
              "    </tr>\n",
              "    <tr>\n",
              "      <th>mean</th>\n",
              "      <td>-0.048077</td>\n",
              "      <td>0.197357</td>\n",
              "      <td>0.095466</td>\n",
              "      <td>-0.162884</td>\n",
              "      <td>-0.027718</td>\n",
              "      <td>0.317052</td>\n",
              "      <td>-0.219858</td>\n",
              "      <td>-0.031484</td>\n",
              "      <td>0.006267</td>\n",
              "      <td>0.098594</td>\n",
              "      <td>-0.649707</td>\n",
              "      <td>-0.410361</td>\n",
              "      <td>-0.219710</td>\n",
              "      <td>-0.149458</td>\n",
              "      <td>0.103161</td>\n",
              "      <td>0.489245</td>\n",
              "      <td>-0.009572</td>\n",
              "      <td>0.376868</td>\n",
              "      <td>0.426533</td>\n",
              "      <td>0.186031</td>\n",
              "      <td>0.277407</td>\n",
              "      <td>-0.094857</td>\n",
              "      <td>0.089864</td>\n",
              "      <td>-0.050231</td>\n",
              "      <td>0.039063</td>\n",
              "    </tr>\n",
              "    <tr>\n",
              "      <th>std</th>\n",
              "      <td>1.094807</td>\n",
              "      <td>0.482525</td>\n",
              "      <td>0.858424</td>\n",
              "      <td>1.064529</td>\n",
              "      <td>1.099264</td>\n",
              "      <td>1.220481</td>\n",
              "      <td>0.698002</td>\n",
              "      <td>0.697220</td>\n",
              "      <td>0.484457</td>\n",
              "      <td>0.914271</td>\n",
              "      <td>0.890714</td>\n",
              "      <td>0.875948</td>\n",
              "      <td>1.246643</td>\n",
              "      <td>1.082484</td>\n",
              "      <td>0.712814</td>\n",
              "      <td>0.504274</td>\n",
              "      <td>0.883807</td>\n",
              "      <td>0.909320</td>\n",
              "      <td>0.824354</td>\n",
              "      <td>0.635048</td>\n",
              "      <td>1.233514</td>\n",
              "      <td>1.071718</td>\n",
              "      <td>1.032076</td>\n",
              "      <td>1.098034</td>\n",
              "      <td>0.668837</td>\n",
              "    </tr>\n",
              "    <tr>\n",
              "      <th>min</th>\n",
              "      <td>-1.374612</td>\n",
              "      <td>-0.654273</td>\n",
              "      <td>-1.396305</td>\n",
              "      <td>-1.489567</td>\n",
              "      <td>-1.571899</td>\n",
              "      <td>-0.892601</td>\n",
              "      <td>-1.396530</td>\n",
              "      <td>-0.886495</td>\n",
              "      <td>-0.831643</td>\n",
              "      <td>-1.177736</td>\n",
              "      <td>-1.961072</td>\n",
              "      <td>-1.748423</td>\n",
              "      <td>-2.062073</td>\n",
              "      <td>-1.404442</td>\n",
              "      <td>-1.121159</td>\n",
              "      <td>-0.363073</td>\n",
              "      <td>-1.145471</td>\n",
              "      <td>-0.361121</td>\n",
              "      <td>-1.200045</td>\n",
              "      <td>-0.571176</td>\n",
              "      <td>-2.152587</td>\n",
              "      <td>-1.708871</td>\n",
              "      <td>-1.728791</td>\n",
              "      <td>-1.339430</td>\n",
              "      <td>-1.103673</td>\n",
              "    </tr>\n",
              "    <tr>\n",
              "      <th>25%</th>\n",
              "      <td>-1.049813</td>\n",
              "      <td>-0.117879</td>\n",
              "      <td>-0.415034</td>\n",
              "      <td>-0.925145</td>\n",
              "      <td>-0.661891</td>\n",
              "      <td>-0.588130</td>\n",
              "      <td>-0.543943</td>\n",
              "      <td>-0.584442</td>\n",
              "      <td>-0.351064</td>\n",
              "      <td>-0.567343</td>\n",
              "      <td>-1.387179</td>\n",
              "      <td>-1.122471</td>\n",
              "      <td>-0.906535</td>\n",
              "      <td>-1.138571</td>\n",
              "      <td>-0.315327</td>\n",
              "      <td>0.182233</td>\n",
              "      <td>-0.784243</td>\n",
              "      <td>-0.214950</td>\n",
              "      <td>0.152809</td>\n",
              "      <td>-0.342738</td>\n",
              "      <td>-0.261771</td>\n",
              "      <td>-0.424153</td>\n",
              "      <td>-0.313183</td>\n",
              "      <td>-0.840967</td>\n",
              "      <td>-0.464802</td>\n",
              "    </tr>\n",
              "    <tr>\n",
              "      <th>50%</th>\n",
              "      <td>-0.196743</td>\n",
              "      <td>0.251042</td>\n",
              "      <td>-0.089394</td>\n",
              "      <td>-0.590222</td>\n",
              "      <td>-0.011753</td>\n",
              "      <td>-0.106473</td>\n",
              "      <td>-0.268195</td>\n",
              "      <td>-0.241365</td>\n",
              "      <td>0.076211</td>\n",
              "      <td>0.020583</td>\n",
              "      <td>-0.661045</td>\n",
              "      <td>-0.466156</td>\n",
              "      <td>-0.600441</td>\n",
              "      <td>-0.291715</td>\n",
              "      <td>-0.101506</td>\n",
              "      <td>0.463821</td>\n",
              "      <td>0.062198</td>\n",
              "      <td>-0.168260</td>\n",
              "      <td>0.373810</td>\n",
              "      <td>-0.010877</td>\n",
              "      <td>0.384436</td>\n",
              "      <td>-0.161005</td>\n",
              "      <td>0.183657</td>\n",
              "      <td>-0.225259</td>\n",
              "      <td>0.295482</td>\n",
              "    </tr>\n",
              "    <tr>\n",
              "      <th>75%</th>\n",
              "      <td>0.833368</td>\n",
              "      <td>0.406081</td>\n",
              "      <td>0.803957</td>\n",
              "      <td>0.897236</td>\n",
              "      <td>0.346673</td>\n",
              "      <td>0.872839</td>\n",
              "      <td>-0.018901</td>\n",
              "      <td>0.555112</td>\n",
              "      <td>0.312406</td>\n",
              "      <td>0.654539</td>\n",
              "      <td>-0.108061</td>\n",
              "      <td>0.330383</td>\n",
              "      <td>0.263775</td>\n",
              "      <td>0.653560</td>\n",
              "      <td>0.550941</td>\n",
              "      <td>0.849941</td>\n",
              "      <td>0.336126</td>\n",
              "      <td>0.813928</td>\n",
              "      <td>1.009423</td>\n",
              "      <td>0.803679</td>\n",
              "      <td>1.060734</td>\n",
              "      <td>0.394284</td>\n",
              "      <td>0.920975</td>\n",
              "      <td>0.288783</td>\n",
              "      <td>0.624931</td>\n",
              "    </tr>\n",
              "    <tr>\n",
              "      <th>max</th>\n",
              "      <td>1.593421</td>\n",
              "      <td>0.852299</td>\n",
              "      <td>1.330837</td>\n",
              "      <td>1.363806</td>\n",
              "      <td>2.360789</td>\n",
              "      <td>2.974317</td>\n",
              "      <td>1.094102</td>\n",
              "      <td>1.106830</td>\n",
              "      <td>0.708941</td>\n",
              "      <td>1.484134</td>\n",
              "      <td>0.852933</td>\n",
              "      <td>0.855075</td>\n",
              "      <td>2.008032</td>\n",
              "      <td>1.612761</td>\n",
              "      <td>1.287828</td>\n",
              "      <td>1.357103</td>\n",
              "      <td>1.609937</td>\n",
              "      <td>2.340987</td>\n",
              "      <td>1.604021</td>\n",
              "      <td>1.077596</td>\n",
              "      <td>2.020312</td>\n",
              "      <td>1.988567</td>\n",
              "      <td>1.445100</td>\n",
              "      <td>1.755690</td>\n",
              "      <td>0.735822</td>\n",
              "    </tr>\n",
              "  </tbody>\n",
              "</table>\n",
              "</div>"
            ],
            "text/plain": [
              "              0          1          2   ...         22         23         24\n",
              "count  10.000000  10.000000  10.000000  ...  10.000000  10.000000  10.000000\n",
              "mean   -0.048077   0.197357   0.095466  ...   0.089864  -0.050231   0.039063\n",
              "std     1.094807   0.482525   0.858424  ...   1.032076   1.098034   0.668837\n",
              "min    -1.374612  -0.654273  -1.396305  ...  -1.728791  -1.339430  -1.103673\n",
              "25%    -1.049813  -0.117879  -0.415034  ...  -0.313183  -0.840967  -0.464802\n",
              "50%    -0.196743   0.251042  -0.089394  ...   0.183657  -0.225259   0.295482\n",
              "75%     0.833368   0.406081   0.803957  ...   0.920975   0.288783   0.624931\n",
              "max     1.593421   0.852299   1.330837  ...   1.445100   1.755690   0.735822\n",
              "\n",
              "[8 rows x 25 columns]"
            ]
          },
          "metadata": {
            "tags": []
          },
          "execution_count": 292
        }
      ]
    },
    {
      "cell_type": "code",
      "metadata": {
        "id": "wiA1Lad4TY20",
        "colab_type": "code",
        "colab": {
          "base_uri": "https://localhost:8080/",
          "height": 431
        },
        "outputId": "ad089475-54ba-4b90-e277-8f475cf1b8be"
      },
      "source": [
        "import matplotlib.pyplot as plt\n",
        "%matplotlib inline \n",
        "df.plot()"
      ],
      "execution_count": null,
      "outputs": [
        {
          "output_type": "execute_result",
          "data": {
            "text/plain": [
              "<matplotlib.axes._subplots.AxesSubplot at 0x7fe9f3f77358>"
            ]
          },
          "metadata": {
            "tags": []
          },
          "execution_count": 258
        },
        {
          "output_type": "display_data",
          "data": {
            "image/png": "[encoded data removed]",
            "text/plain": [
              "<Figure size 432x288 with 1 Axes>"
            ]
          },
          "metadata": {
            "tags": [],
            "needs_background": "light"
          }
        }
      ]
    },
    {
      "cell_type": "code",
      "metadata": {
        "id": "tFc0KJxGTkjm",
        "colab_type": "code",
        "colab": {
          "base_uri": "https://localhost:8080/",
          "height": 282
        },
        "outputId": "fda00f3f-f43d-4ebb-cdf4-0c9cb84244de"
      },
      "source": [
        "df = pd.DataFrame(np.random.randn(3,3))\n",
        "import matplotlib.pyplot as plt\n",
        "%matplotlib inline \n",
        "df.plot()"
      ],
      "execution_count": null,
      "outputs": [
        {
          "output_type": "execute_result",
          "data": {
            "text/plain": [
              "<matplotlib.axes._subplots.AxesSubplot at 0x7fe9f3f772b0>"
            ]
          },
          "metadata": {
            "tags": []
          },
          "execution_count": 259
        },
        {
          "output_type": "display_data",
          "data": {
            "image/png": "[encoded data removed]",
            "text/plain": [
              "<Figure size 432x288 with 1 Axes>"
            ]
          },
          "metadata": {
            "tags": [],
            "needs_background": "light"
          }
        }
      ]
    },
    {
      "cell_type": "code",
      "metadata": {
        "id": "8ux70jcjUWVE",
        "colab_type": "code",
        "colab": {
          "base_uri": "https://localhost:8080/",
          "height": 142
        },
        "outputId": "07a8e575-da46-450c-e74d-5bda6af28da2"
      },
      "source": [
        "df = pd.DataFrame({'A':1,\n",
        "                'number':np.array([6]*3, dtype='int32')})\n",
        "df"
      ],
      "execution_count": null,
      "outputs": [
        {
          "output_type": "execute_result",
          "data": {
            "text/html": [
              "<div>\n",
              "<style scoped>\n",
              "    .dataframe tbody tr th:only-of-type {\n",
              "        vertical-align: middle;\n",
              "    }\n",
              "\n",
              "    .dataframe tbody tr th {\n",
              "        vertical-align: top;\n",
              "    }\n",
              "\n",
              "    .dataframe thead th {\n",
              "        text-align: right;\n",
              "    }\n",
              "</style>\n",
              "<table border=\"1\" class=\"dataframe\">\n",
              "  <thead>\n",
              "    <tr style=\"text-align: right;\">\n",
              "      <th></th>\n",
              "      <th>A</th>\n",
              "      <th>number</th>\n",
              "    </tr>\n",
              "  </thead>\n",
              "  <tbody>\n",
              "    <tr>\n",
              "      <th>0</th>\n",
              "      <td>1</td>\n",
              "      <td>6</td>\n",
              "    </tr>\n",
              "    <tr>\n",
              "      <th>1</th>\n",
              "      <td>1</td>\n",
              "      <td>6</td>\n",
              "    </tr>\n",
              "    <tr>\n",
              "      <th>2</th>\n",
              "      <td>1</td>\n",
              "      <td>6</td>\n",
              "    </tr>\n",
              "  </tbody>\n",
              "</table>\n",
              "</div>"
            ],
            "text/plain": [
              "   A  number\n",
              "0  1       6\n",
              "1  1       6\n",
              "2  1       6"
            ]
          },
          "metadata": {
            "tags": []
          },
          "execution_count": 260
        }
      ]
    },
    {
      "cell_type": "code",
      "metadata": {
        "id": "WW4OrQvrVcVo",
        "colab_type": "code",
        "colab": {
          "base_uri": "https://localhost:8080/",
          "height": 204
        },
        "outputId": "b038e95b-f952-4472-f85e-445d64acd397"
      },
      "source": [
        "df = pd.DataFrame({'Day':2,\n",
        "                   'E':np.array([4]*5, dtype='int64')})\n",
        "df"
      ],
      "execution_count": null,
      "outputs": [
        {
          "output_type": "execute_result",
          "data": {
            "text/html": [
              "<div>\n",
              "<style scoped>\n",
              "    .dataframe tbody tr th:only-of-type {\n",
              "        vertical-align: middle;\n",
              "    }\n",
              "\n",
              "    .dataframe tbody tr th {\n",
              "        vertical-align: top;\n",
              "    }\n",
              "\n",
              "    .dataframe thead th {\n",
              "        text-align: right;\n",
              "    }\n",
              "</style>\n",
              "<table border=\"1\" class=\"dataframe\">\n",
              "  <thead>\n",
              "    <tr style=\"text-align: right;\">\n",
              "      <th></th>\n",
              "      <th>Day</th>\n",
              "      <th>E</th>\n",
              "    </tr>\n",
              "  </thead>\n",
              "  <tbody>\n",
              "    <tr>\n",
              "      <th>0</th>\n",
              "      <td>2</td>\n",
              "      <td>4</td>\n",
              "    </tr>\n",
              "    <tr>\n",
              "      <th>1</th>\n",
              "      <td>2</td>\n",
              "      <td>4</td>\n",
              "    </tr>\n",
              "    <tr>\n",
              "      <th>2</th>\n",
              "      <td>2</td>\n",
              "      <td>4</td>\n",
              "    </tr>\n",
              "    <tr>\n",
              "      <th>3</th>\n",
              "      <td>2</td>\n",
              "      <td>4</td>\n",
              "    </tr>\n",
              "    <tr>\n",
              "      <th>4</th>\n",
              "      <td>2</td>\n",
              "      <td>4</td>\n",
              "    </tr>\n",
              "  </tbody>\n",
              "</table>\n",
              "</div>"
            ],
            "text/plain": [
              "   Day  E\n",
              "0    2  4\n",
              "1    2  4\n",
              "2    2  4\n",
              "3    2  4\n",
              "4    2  4"
            ]
          },
          "metadata": {
            "tags": []
          },
          "execution_count": 261
        }
      ]
    },
    {
      "cell_type": "code",
      "metadata": {
        "id": "AqZTl4dtcPsE",
        "colab_type": "code",
        "colab": {
          "base_uri": "https://localhost:8080/",
          "height": 34
        },
        "outputId": "ddc2ac67-fed8-49be-b2f6-cc78dea7c45a"
      },
      "source": [
        "df.columns"
      ],
      "execution_count": null,
      "outputs": [
        {
          "output_type": "execute_result",
          "data": {
            "text/plain": [
              "Index(['Day', 'E'], dtype='object')"
            ]
          },
          "metadata": {
            "tags": []
          },
          "execution_count": 262
        }
      ]
    },
    {
      "cell_type": "code",
      "metadata": {
        "id": "EoUuzo5VcWkc",
        "colab_type": "code",
        "colab": {
          "base_uri": "https://localhost:8080/",
          "height": 68
        },
        "outputId": "e61c50bf-161c-410e-d06e-33ae07c7f17e"
      },
      "source": [
        "df.dtypes "
      ],
      "execution_count": null,
      "outputs": [
        {
          "output_type": "execute_result",
          "data": {
            "text/plain": [
              "Day    int64\n",
              "E      int64\n",
              "dtype: object"
            ]
          },
          "metadata": {
            "tags": []
          },
          "execution_count": 263
        }
      ]
    },
    {
      "cell_type": "code",
      "metadata": {
        "id": "y2LpZZ8dcomY",
        "colab_type": "code",
        "colab": {
          "base_uri": "https://localhost:8080/",
          "height": 119
        },
        "outputId": "486a3828-22a4-497f-e42d-9065b5795536"
      },
      "source": [
        "df = pd.DataFrame(np.random.randn(10,25))\n",
        "df.duplicated().head()"
      ],
      "execution_count": null,
      "outputs": [
        {
          "output_type": "execute_result",
          "data": {
            "text/plain": [
              "0    False\n",
              "1    False\n",
              "2    False\n",
              "3    False\n",
              "4    False\n",
              "dtype: bool"
            ]
          },
          "metadata": {
            "tags": []
          },
          "execution_count": 264
        }
      ]
    },
    {
      "cell_type": "code",
      "metadata": {
        "id": "baAZUDGedLx_",
        "colab_type": "code",
        "colab": {
          "base_uri": "https://localhost:8080/",
          "height": 224
        },
        "outputId": "9877757f-61c3-4cdd-b1c2-044a687cdf86"
      },
      "source": [
        "df.drop_duplicates()\n",
        "df.dtypes.head()\n",
        "df.duplicated().head()\n",
        "df.drop_duplicates().head()"
      ],
      "execution_count": null,
      "outputs": [
        {
          "output_type": "execute_result",
          "data": {
            "text/html": [
              "<div>\n",
              "<style scoped>\n",
              "    .dataframe tbody tr th:only-of-type {\n",
              "        vertical-align: middle;\n",
              "    }\n",
              "\n",
              "    .dataframe tbody tr th {\n",
              "        vertical-align: top;\n",
              "    }\n",
              "\n",
              "    .dataframe thead th {\n",
              "        text-align: right;\n",
              "    }\n",
              "</style>\n",
              "<table border=\"1\" class=\"dataframe\">\n",
              "  <thead>\n",
              "    <tr style=\"text-align: right;\">\n",
              "      <th></th>\n",
              "      <th>0</th>\n",
              "      <th>1</th>\n",
              "      <th>2</th>\n",
              "      <th>3</th>\n",
              "      <th>4</th>\n",
              "      <th>5</th>\n",
              "      <th>6</th>\n",
              "      <th>7</th>\n",
              "      <th>8</th>\n",
              "      <th>9</th>\n",
              "      <th>10</th>\n",
              "      <th>11</th>\n",
              "      <th>12</th>\n",
              "      <th>13</th>\n",
              "      <th>14</th>\n",
              "      <th>15</th>\n",
              "      <th>16</th>\n",
              "      <th>17</th>\n",
              "      <th>18</th>\n",
              "      <th>19</th>\n",
              "      <th>20</th>\n",
              "      <th>21</th>\n",
              "      <th>22</th>\n",
              "      <th>23</th>\n",
              "      <th>24</th>\n",
              "    </tr>\n",
              "  </thead>\n",
              "  <tbody>\n",
              "    <tr>\n",
              "      <th>0</th>\n",
              "      <td>1.593421</td>\n",
              "      <td>0.277201</td>\n",
              "      <td>-1.396305</td>\n",
              "      <td>1.363806</td>\n",
              "      <td>0.665928</td>\n",
              "      <td>-0.290550</td>\n",
              "      <td>-0.237112</td>\n",
              "      <td>-0.886495</td>\n",
              "      <td>0.019812</td>\n",
              "      <td>-0.580972</td>\n",
              "      <td>-0.059751</td>\n",
              "      <td>-1.748423</td>\n",
              "      <td>0.367974</td>\n",
              "      <td>-0.648885</td>\n",
              "      <td>-0.153330</td>\n",
              "      <td>0.942671</td>\n",
              "      <td>-1.069784</td>\n",
              "      <td>-0.168353</td>\n",
              "      <td>-1.200045</td>\n",
              "      <td>-0.571176</td>\n",
              "      <td>-0.093022</td>\n",
              "      <td>-0.471704</td>\n",
              "      <td>-0.297020</td>\n",
              "      <td>-1.339430</td>\n",
              "      <td>0.685799</td>\n",
              "    </tr>\n",
              "    <tr>\n",
              "      <th>1</th>\n",
              "      <td>-1.187419</td>\n",
              "      <td>0.422353</td>\n",
              "      <td>1.027062</td>\n",
              "      <td>-0.957565</td>\n",
              "      <td>2.360789</td>\n",
              "      <td>0.635464</td>\n",
              "      <td>0.028427</td>\n",
              "      <td>1.106830</td>\n",
              "      <td>0.311610</td>\n",
              "      <td>0.708004</td>\n",
              "      <td>-0.252992</td>\n",
              "      <td>-1.202430</td>\n",
              "      <td>-0.941172</td>\n",
              "      <td>-0.585575</td>\n",
              "      <td>0.583449</td>\n",
              "      <td>0.545204</td>\n",
              "      <td>1.609937</td>\n",
              "      <td>-0.361121</td>\n",
              "      <td>0.532720</td>\n",
              "      <td>0.543784</td>\n",
              "      <td>-2.152587</td>\n",
              "      <td>0.103328</td>\n",
              "      <td>-0.030619</td>\n",
              "      <td>0.298943</td>\n",
              "      <td>-0.475533</td>\n",
              "    </tr>\n",
              "    <tr>\n",
              "      <th>2</th>\n",
              "      <td>-0.244997</td>\n",
              "      <td>-0.316137</td>\n",
              "      <td>0.128303</td>\n",
              "      <td>1.123635</td>\n",
              "      <td>-0.068022</td>\n",
              "      <td>1.492995</td>\n",
              "      <td>-0.622446</td>\n",
              "      <td>-0.657702</td>\n",
              "      <td>0.708941</td>\n",
              "      <td>1.291390</td>\n",
              "      <td>-1.515495</td>\n",
              "      <td>-0.629568</td>\n",
              "      <td>-1.115195</td>\n",
              "      <td>1.154302</td>\n",
              "      <td>1.287828</td>\n",
              "      <td>0.080080</td>\n",
              "      <td>0.836744</td>\n",
              "      <td>0.944081</td>\n",
              "      <td>1.105197</td>\n",
              "      <td>1.077596</td>\n",
              "      <td>-0.038691</td>\n",
              "      <td>0.778232</td>\n",
              "      <td>0.549810</td>\n",
              "      <td>-0.427232</td>\n",
              "      <td>0.356991</td>\n",
              "    </tr>\n",
              "    <tr>\n",
              "      <th>3</th>\n",
              "      <td>0.748699</td>\n",
              "      <td>0.180207</td>\n",
              "      <td>0.704631</td>\n",
              "      <td>-1.489567</td>\n",
              "      <td>0.199637</td>\n",
              "      <td>-0.892601</td>\n",
              "      <td>0.566597</td>\n",
              "      <td>-0.687035</td>\n",
              "      <td>-0.554127</td>\n",
              "      <td>-0.747728</td>\n",
              "      <td>0.852933</td>\n",
              "      <td>-0.882594</td>\n",
              "      <td>-2.062073</td>\n",
              "      <td>0.002144</td>\n",
              "      <td>-0.343789</td>\n",
              "      <td>0.382438</td>\n",
              "      <td>-1.145471</td>\n",
              "      <td>2.340987</td>\n",
              "      <td>1.604021</td>\n",
              "      <td>0.034557</td>\n",
              "      <td>1.076725</td>\n",
              "      <td>1.988567</td>\n",
              "      <td>-1.728791</td>\n",
              "      <td>-1.131082</td>\n",
              "      <td>-0.740025</td>\n",
              "    </tr>\n",
              "    <tr>\n",
              "      <th>4</th>\n",
              "      <td>1.214387</td>\n",
              "      <td>0.852299</td>\n",
              "      <td>-0.396114</td>\n",
              "      <td>1.219637</td>\n",
              "      <td>0.395685</td>\n",
              "      <td>-0.042353</td>\n",
              "      <td>-0.863017</td>\n",
              "      <td>0.109430</td>\n",
              "      <td>-0.474690</td>\n",
              "      <td>-1.177736</td>\n",
              "      <td>-1.961072</td>\n",
              "      <td>0.330191</td>\n",
              "      <td>-0.586217</td>\n",
              "      <td>-1.404442</td>\n",
              "      <td>-0.049682</td>\n",
              "      <td>0.981594</td>\n",
              "      <td>0.262563</td>\n",
              "      <td>-0.228932</td>\n",
              "      <td>1.290375</td>\n",
              "      <td>-0.056312</td>\n",
              "      <td>2.020312</td>\n",
              "      <td>-0.281503</td>\n",
              "      <td>1.108478</td>\n",
              "      <td>-0.023286</td>\n",
              "      <td>0.687563</td>\n",
              "    </tr>\n",
              "  </tbody>\n",
              "</table>\n",
              "</div>"
            ],
            "text/plain": [
              "         0         1         2   ...        22        23        24\n",
              "0  1.593421  0.277201 -1.396305  ... -0.297020 -1.339430  0.685799\n",
              "1 -1.187419  0.422353  1.027062  ... -0.030619  0.298943 -0.475533\n",
              "2 -0.244997 -0.316137  0.128303  ...  0.549810 -0.427232  0.356991\n",
              "3  0.748699  0.180207  0.704631  ... -1.728791 -1.131082 -0.740025\n",
              "4  1.214387  0.852299 -0.396114  ...  1.108478 -0.023286  0.687563\n",
              "\n",
              "[5 rows x 25 columns]"
            ]
          },
          "metadata": {
            "tags": []
          },
          "execution_count": 265
        }
      ]
    },
    {
      "cell_type": "code",
      "metadata": {
        "id": "p5PBa-JOd608",
        "colab_type": "code",
        "colab": {
          "base_uri": "https://localhost:8080/",
          "height": 119
        },
        "outputId": "155eeab0-5186-4e77-d472-f6d6c4826f1e"
      },
      "source": [
        "df.isnull().sum().head()"
      ],
      "execution_count": null,
      "outputs": [
        {
          "output_type": "execute_result",
          "data": {
            "text/plain": [
              "0    0\n",
              "1    0\n",
              "2    0\n",
              "3    0\n",
              "4    0\n",
              "dtype: int64"
            ]
          },
          "metadata": {
            "tags": []
          },
          "execution_count": 266
        }
      ]
    },
    {
      "cell_type": "code",
      "metadata": {
        "id": "p6zG-m-UePE2",
        "colab_type": "code",
        "colab": {
          "base_uri": "https://localhost:8080/",
          "height": 100
        },
        "outputId": "f58019ec-7968-4318-973a-00eba11c824e"
      },
      "source": [
        "df.dropna()\n",
        "df.head(1)"
      ],
      "execution_count": null,
      "outputs": [
        {
          "output_type": "execute_result",
          "data": {
            "text/html": [
              "<div>\n",
              "<style scoped>\n",
              "    .dataframe tbody tr th:only-of-type {\n",
              "        vertical-align: middle;\n",
              "    }\n",
              "\n",
              "    .dataframe tbody tr th {\n",
              "        vertical-align: top;\n",
              "    }\n",
              "\n",
              "    .dataframe thead th {\n",
              "        text-align: right;\n",
              "    }\n",
              "</style>\n",
              "<table border=\"1\" class=\"dataframe\">\n",
              "  <thead>\n",
              "    <tr style=\"text-align: right;\">\n",
              "      <th></th>\n",
              "      <th>0</th>\n",
              "      <th>1</th>\n",
              "      <th>2</th>\n",
              "      <th>3</th>\n",
              "      <th>4</th>\n",
              "      <th>5</th>\n",
              "      <th>6</th>\n",
              "      <th>7</th>\n",
              "      <th>8</th>\n",
              "      <th>9</th>\n",
              "      <th>10</th>\n",
              "      <th>11</th>\n",
              "      <th>12</th>\n",
              "      <th>13</th>\n",
              "      <th>14</th>\n",
              "      <th>15</th>\n",
              "      <th>16</th>\n",
              "      <th>17</th>\n",
              "      <th>18</th>\n",
              "      <th>19</th>\n",
              "      <th>20</th>\n",
              "      <th>21</th>\n",
              "      <th>22</th>\n",
              "      <th>23</th>\n",
              "      <th>24</th>\n",
              "    </tr>\n",
              "  </thead>\n",
              "  <tbody>\n",
              "    <tr>\n",
              "      <th>0</th>\n",
              "      <td>1.593421</td>\n",
              "      <td>0.277201</td>\n",
              "      <td>-1.396305</td>\n",
              "      <td>1.363806</td>\n",
              "      <td>0.665928</td>\n",
              "      <td>-0.29055</td>\n",
              "      <td>-0.237112</td>\n",
              "      <td>-0.886495</td>\n",
              "      <td>0.019812</td>\n",
              "      <td>-0.580972</td>\n",
              "      <td>-0.059751</td>\n",
              "      <td>-1.748423</td>\n",
              "      <td>0.367974</td>\n",
              "      <td>-0.648885</td>\n",
              "      <td>-0.15333</td>\n",
              "      <td>0.942671</td>\n",
              "      <td>-1.069784</td>\n",
              "      <td>-0.168353</td>\n",
              "      <td>-1.200045</td>\n",
              "      <td>-0.571176</td>\n",
              "      <td>-0.093022</td>\n",
              "      <td>-0.471704</td>\n",
              "      <td>-0.29702</td>\n",
              "      <td>-1.33943</td>\n",
              "      <td>0.685799</td>\n",
              "    </tr>\n",
              "  </tbody>\n",
              "</table>\n",
              "</div>"
            ],
            "text/plain": [
              "         0         1         2         3   ...        21       22       23        24\n",
              "0  1.593421  0.277201 -1.396305  1.363806  ... -0.471704 -0.29702 -1.33943  0.685799\n",
              "\n",
              "[1 rows x 25 columns]"
            ]
          },
          "metadata": {
            "tags": []
          },
          "execution_count": 267
        }
      ]
    },
    {
      "cell_type": "code",
      "metadata": {
        "id": "8CdNni7gezgA",
        "colab_type": "code",
        "colab": {
          "base_uri": "https://localhost:8080/",
          "height": 119
        },
        "outputId": "3d3cfdbb-0f46-47f2-a5f2-1f11afc1cf93"
      },
      "source": [
        "df.isnull().sum().head()"
      ],
      "execution_count": null,
      "outputs": [
        {
          "output_type": "execute_result",
          "data": {
            "text/plain": [
              "0    0\n",
              "1    0\n",
              "2    0\n",
              "3    0\n",
              "4    0\n",
              "dtype: int64"
            ]
          },
          "metadata": {
            "tags": []
          },
          "execution_count": 268
        }
      ]
    },
    {
      "cell_type": "code",
      "metadata": {
        "id": "lmXvBTHefcJF",
        "colab_type": "code",
        "colab": {
          "base_uri": "https://localhost:8080/",
          "height": 49
        },
        "outputId": "50a95692-9bb4-4f49-d465-db25b0559701"
      },
      "source": [
        "df.dropna()\n",
        "df.head(0)"
      ],
      "execution_count": null,
      "outputs": [
        {
          "output_type": "execute_result",
          "data": {
            "text/html": [
              "<div>\n",
              "<style scoped>\n",
              "    .dataframe tbody tr th:only-of-type {\n",
              "        vertical-align: middle;\n",
              "    }\n",
              "\n",
              "    .dataframe tbody tr th {\n",
              "        vertical-align: top;\n",
              "    }\n",
              "\n",
              "    .dataframe thead th {\n",
              "        text-align: right;\n",
              "    }\n",
              "</style>\n",
              "<table border=\"1\" class=\"dataframe\">\n",
              "  <thead>\n",
              "    <tr style=\"text-align: right;\">\n",
              "      <th></th>\n",
              "      <th>0</th>\n",
              "      <th>1</th>\n",
              "      <th>2</th>\n",
              "      <th>3</th>\n",
              "      <th>4</th>\n",
              "      <th>5</th>\n",
              "      <th>6</th>\n",
              "      <th>7</th>\n",
              "      <th>8</th>\n",
              "      <th>9</th>\n",
              "      <th>10</th>\n",
              "      <th>11</th>\n",
              "      <th>12</th>\n",
              "      <th>13</th>\n",
              "      <th>14</th>\n",
              "      <th>15</th>\n",
              "      <th>16</th>\n",
              "      <th>17</th>\n",
              "      <th>18</th>\n",
              "      <th>19</th>\n",
              "      <th>20</th>\n",
              "      <th>21</th>\n",
              "      <th>22</th>\n",
              "      <th>23</th>\n",
              "      <th>24</th>\n",
              "    </tr>\n",
              "  </thead>\n",
              "  <tbody>\n",
              "  </tbody>\n",
              "</table>\n",
              "</div>"
            ],
            "text/plain": [
              "Empty DataFrame\n",
              "Columns: [0, 1, 2, 3, 4, 5, 6, 7, 8, 9, 10, 11, 12, 13, 14, 15, 16, 17, 18, 19, 20, 21, 22, 23, 24]\n",
              "Index: []"
            ]
          },
          "metadata": {
            "tags": []
          },
          "execution_count": 269
        }
      ]
    },
    {
      "cell_type": "code",
      "metadata": {
        "id": "x81VtgxpgcJO",
        "colab_type": "code",
        "colab": {
          "base_uri": "https://localhost:8080/",
          "height": 102
        },
        "outputId": "3149353b-ab4a-4bce-8329-847fed457aff"
      },
      "source": [
        "df1 = pd.DataFrame(np.random.randn(6,4))\n",
        "df1.mean()"
      ],
      "execution_count": null,
      "outputs": [
        {
          "output_type": "execute_result",
          "data": {
            "text/plain": [
              "0    0.741901\n",
              "1   -0.063800\n",
              "2    0.176372\n",
              "3   -0.649798\n",
              "dtype: float64"
            ]
          },
          "metadata": {
            "tags": []
          },
          "execution_count": 270
        }
      ]
    },
    {
      "cell_type": "code",
      "metadata": {
        "id": "4qVrGHGMg0YO",
        "colab_type": "code",
        "colab": {
          "base_uri": "https://localhost:8080/",
          "height": 119
        },
        "outputId": "71f15d79-7efa-42e6-f975-8e7642ed2305"
      },
      "source": [
        "df2 = pd.DataFrame(np.random.randn(3, 5))\n",
        "df2.mean()"
      ],
      "execution_count": null,
      "outputs": [
        {
          "output_type": "execute_result",
          "data": {
            "text/plain": [
              "0   -0.400150\n",
              "1    0.283746\n",
              "2    0.788614\n",
              "3    0.400250\n",
              "4   -0.400318\n",
              "dtype: float64"
            ]
          },
          "metadata": {
            "tags": []
          },
          "execution_count": 271
        }
      ]
    },
    {
      "cell_type": "code",
      "metadata": {
        "id": "py1jKNGRhATT",
        "colab_type": "code",
        "colab": {
          "base_uri": "https://localhost:8080/",
          "height": 142
        },
        "outputId": "80b455bc-93e8-47bc-ccac-312ca19718a1"
      },
      "source": [
        "df1.apply(np.cumsum)\n",
        "df2.apply(np.cumsum)"
      ],
      "execution_count": null,
      "outputs": [
        {
          "output_type": "execute_result",
          "data": {
            "text/html": [
              "<div>\n",
              "<style scoped>\n",
              "    .dataframe tbody tr th:only-of-type {\n",
              "        vertical-align: middle;\n",
              "    }\n",
              "\n",
              "    .dataframe tbody tr th {\n",
              "        vertical-align: top;\n",
              "    }\n",
              "\n",
              "    .dataframe thead th {\n",
              "        text-align: right;\n",
              "    }\n",
              "</style>\n",
              "<table border=\"1\" class=\"dataframe\">\n",
              "  <thead>\n",
              "    <tr style=\"text-align: right;\">\n",
              "      <th></th>\n",
              "      <th>0</th>\n",
              "      <th>1</th>\n",
              "      <th>2</th>\n",
              "      <th>3</th>\n",
              "      <th>4</th>\n",
              "    </tr>\n",
              "  </thead>\n",
              "  <tbody>\n",
              "    <tr>\n",
              "      <th>0</th>\n",
              "      <td>-0.666029</td>\n",
              "      <td>0.689055</td>\n",
              "      <td>-0.204446</td>\n",
              "      <td>0.410111</td>\n",
              "      <td>-0.119173</td>\n",
              "    </tr>\n",
              "    <tr>\n",
              "      <th>1</th>\n",
              "      <td>-0.552573</td>\n",
              "      <td>1.453125</td>\n",
              "      <td>1.815296</td>\n",
              "      <td>0.433067</td>\n",
              "      <td>-1.164676</td>\n",
              "    </tr>\n",
              "    <tr>\n",
              "      <th>2</th>\n",
              "      <td>-1.200449</td>\n",
              "      <td>0.851239</td>\n",
              "      <td>2.365841</td>\n",
              "      <td>1.200749</td>\n",
              "      <td>-1.200955</td>\n",
              "    </tr>\n",
              "  </tbody>\n",
              "</table>\n",
              "</div>"
            ],
            "text/plain": [
              "          0         1         2         3         4\n",
              "0 -0.666029  0.689055 -0.204446  0.410111 -0.119173\n",
              "1 -0.552573  1.453125  1.815296  0.433067 -1.164676\n",
              "2 -1.200449  0.851239  2.365841  1.200749 -1.200955"
            ]
          },
          "metadata": {
            "tags": []
          },
          "execution_count": 272
        }
      ]
    },
    {
      "cell_type": "code",
      "metadata": {
        "id": "dN79DoFDhlWA",
        "colab_type": "code",
        "colab": {
          "base_uri": "https://localhost:8080/",
          "height": 119
        },
        "outputId": "462696ba-c09c-46c0-fdce-fa54ffe4196d"
      },
      "source": [
        "df2.max()"
      ],
      "execution_count": null,
      "outputs": [
        {
          "output_type": "execute_result",
          "data": {
            "text/plain": [
              "0    0.113455\n",
              "1    0.764070\n",
              "2    2.019742\n",
              "3    0.767681\n",
              "4   -0.036279\n",
              "dtype: float64"
            ]
          },
          "metadata": {
            "tags": []
          },
          "execution_count": 273
        }
      ]
    },
    {
      "cell_type": "code",
      "metadata": {
        "id": "BGRDQCXbhtiQ",
        "colab_type": "code",
        "colab": {
          "base_uri": "https://localhost:8080/",
          "height": 119
        },
        "outputId": "b6142fe5-906f-40da-d793-a35b045831e7"
      },
      "source": [
        "df2.min()"
      ],
      "execution_count": null,
      "outputs": [
        {
          "output_type": "execute_result",
          "data": {
            "text/plain": [
              "0   -0.666029\n",
              "1   -0.601886\n",
              "2   -0.204446\n",
              "3    0.022956\n",
              "4   -1.045503\n",
              "dtype: float64"
            ]
          },
          "metadata": {
            "tags": []
          },
          "execution_count": 274
        }
      ]
    },
    {
      "cell_type": "code",
      "metadata": {
        "id": "3c6fD9e6iWHM",
        "colab_type": "code",
        "colab": {
          "base_uri": "https://localhost:8080/",
          "height": 85
        },
        "outputId": "5bd888f1-15d2-443d-d4f7-69225e97890e"
      },
      "source": [
        "string = np.array(['Dog', 'Cat', 'Friends'])\n",
        "s = pd.Series(string)\n",
        "s"
      ],
      "execution_count": null,
      "outputs": [
        {
          "output_type": "execute_result",
          "data": {
            "text/plain": [
              "0        Dog\n",
              "1        Cat\n",
              "2    Friends\n",
              "dtype: object"
            ]
          },
          "metadata": {
            "tags": []
          },
          "execution_count": 275
        }
      ]
    },
    {
      "cell_type": "code",
      "metadata": {
        "id": "V01yqCsqi008",
        "colab_type": "code",
        "colab": {
          "base_uri": "https://localhost:8080/",
          "height": 85
        },
        "outputId": "f8d47175-3bec-4685-a7e7-12707ae5fb61"
      },
      "source": [
        "s.str.lower()"
      ],
      "execution_count": null,
      "outputs": [
        {
          "output_type": "execute_result",
          "data": {
            "text/plain": [
              "0        dog\n",
              "1        cat\n",
              "2    friends\n",
              "dtype: object"
            ]
          },
          "metadata": {
            "tags": []
          },
          "execution_count": 276
        }
      ]
    },
    {
      "cell_type": "code",
      "metadata": {
        "id": "xCath3uukH2E",
        "colab_type": "code",
        "colab": {
          "base_uri": "https://localhost:8080/",
          "height": 85
        },
        "outputId": "ae712df4-507e-40dc-b791-d5aa634e5e7f"
      },
      "source": [
        "s.str.upper()"
      ],
      "execution_count": null,
      "outputs": [
        {
          "output_type": "execute_result",
          "data": {
            "text/plain": [
              "0        DOG\n",
              "1        CAT\n",
              "2    FRIENDS\n",
              "dtype: object"
            ]
          },
          "metadata": {
            "tags": []
          },
          "execution_count": 277
        }
      ]
    },
    {
      "cell_type": "code",
      "metadata": {
        "id": "T3SyNyjFjN0b",
        "colab_type": "code",
        "colab": {
          "base_uri": "https://localhost:8080/",
          "height": 85
        },
        "outputId": "20e29ae1-ef5c-4047-a452-e9a27c4f2257"
      },
      "source": [
        "love = np.array(['Tiham', 'Foara', 'Only Valobasha'])\n",
        "s8 = pd.Series(love)\n",
        "s8.str.upper()"
      ],
      "execution_count": null,
      "outputs": [
        {
          "output_type": "execute_result",
          "data": {
            "text/plain": [
              "0             TIHAM\n",
              "1             FOARA\n",
              "2    ONLY VALOBASHA\n",
              "dtype: object"
            ]
          },
          "metadata": {
            "tags": []
          },
          "execution_count": 282
        }
      ]
    },
    {
      "cell_type": "code",
      "metadata": {
        "id": "c53s0w6ij9na",
        "colab_type": "code",
        "colab": {
          "base_uri": "https://localhost:8080/",
          "height": 85
        },
        "outputId": "ca721635-429c-4cf8-b0e9-97ade521ddf5"
      },
      "source": [
        "s8.str.lower()\n",
        "s8.str.swapcase()"
      ],
      "execution_count": null,
      "outputs": [
        {
          "output_type": "execute_result",
          "data": {
            "text/plain": [
              "0        tIHAM\n",
              "1        fOARA\n",
              "2    vALOBASHA\n",
              "dtype: object"
            ]
          },
          "metadata": {
            "tags": []
          },
          "execution_count": 279
        }
      ]
    },
    {
      "cell_type": "code",
      "metadata": {
        "id": "u7y8laQ_kfXw",
        "colab_type": "code",
        "colab": {
          "base_uri": "https://localhost:8080/",
          "height": 85
        },
        "outputId": "9e895177-26f7-43d0-ed11-fbd45a157886"
      },
      "source": [
        "s.str.swapcase()"
      ],
      "execution_count": null,
      "outputs": [
        {
          "output_type": "execute_result",
          "data": {
            "text/plain": [
              "0        dOG\n",
              "1        cAT\n",
              "2    fRIENDS\n",
              "dtype: object"
            ]
          },
          "metadata": {
            "tags": []
          },
          "execution_count": 280
        }
      ]
    },
    {
      "cell_type": "code",
      "metadata": {
        "id": "8Q9IJzNIk733",
        "colab_type": "code",
        "colab": {
          "base_uri": "https://localhost:8080/",
          "height": 85
        },
        "outputId": "726cb11d-e6fd-4c0b-9c33-c085f525bdca"
      },
      "source": [
        "s8.str.len()"
      ],
      "execution_count": null,
      "outputs": [
        {
          "output_type": "execute_result",
          "data": {
            "text/plain": [
              "0    5\n",
              "1    5\n",
              "2    9\n",
              "dtype: int64"
            ]
          },
          "metadata": {
            "tags": []
          },
          "execution_count": 281
        }
      ]
    },
    {
      "cell_type": "code",
      "metadata": {
        "id": "mQcKHduPlNbW",
        "colab_type": "code",
        "colab": {
          "base_uri": "https://localhost:8080/",
          "height": 85
        },
        "outputId": "cf41fa70-6ef1-4798-cf85-387177a4c315"
      },
      "source": [
        "s8.str.split()"
      ],
      "execution_count": null,
      "outputs": [
        {
          "output_type": "execute_result",
          "data": {
            "text/plain": [
              "0              [Tiham]\n",
              "1              [Foara]\n",
              "2    [Only, Valobasha]\n",
              "dtype: object"
            ]
          },
          "metadata": {
            "tags": []
          },
          "execution_count": 284
        }
      ]
    },
    {
      "cell_type": "code",
      "metadata": {
        "id": "hWeCmE8UlaTh",
        "colab_type": "code",
        "colab": {
          "base_uri": "https://localhost:8080/",
          "height": 34
        },
        "outputId": "27cde471-0e02-441f-eedf-b54a4b71d6ca"
      },
      "source": [
        "s8.unique()"
      ],
      "execution_count": null,
      "outputs": [
        {
          "output_type": "execute_result",
          "data": {
            "text/plain": [
              "array(['Tiham', 'Foara', 'Only Valobasha'], dtype=object)"
            ]
          },
          "metadata": {
            "tags": []
          },
          "execution_count": 285
        }
      ]
    },
    {
      "cell_type": "code",
      "metadata": {
        "id": "Bd9sYS5-lszc",
        "colab_type": "code",
        "colab": {
          "base_uri": "https://localhost:8080/",
          "height": 85
        },
        "outputId": "6212b0af-669a-4dc1-841b-4a47845fd1ce"
      },
      "source": [
        "repeat_list=[2, 3, 2]\n",
        "s8.str.repeat(repeat_list)"
      ],
      "execution_count": null,
      "outputs": [
        {
          "output_type": "execute_result",
          "data": {
            "text/plain": [
              "0                      TihamTiham\n",
              "1                 FoaraFoaraFoara\n",
              "2    Only ValobashaOnly Valobasha\n",
              "dtype: object"
            ]
          },
          "metadata": {
            "tags": []
          },
          "execution_count": 287
        }
      ]
    },
    {
      "cell_type": "code",
      "metadata": {
        "id": "8Sf0S66JmBD3",
        "colab_type": "code",
        "colab": {
          "base_uri": "https://localhost:8080/",
          "height": 85
        },
        "outputId": "78e7a981-fb4c-4d29-f991-1c5590b46971"
      },
      "source": [
        "rp_ls = [3, 4, 5]\n",
        "s.str.repeat(rp_ls)"
      ],
      "execution_count": null,
      "outputs": [
        {
          "output_type": "execute_result",
          "data": {
            "text/plain": [
              "0                              DogDogDog\n",
              "1                           CatCatCatCat\n",
              "2    FriendsFriendsFriendsFriendsFriends\n",
              "dtype: object"
            ]
          },
          "metadata": {
            "tags": []
          },
          "execution_count": 290
        }
      ]
    },
    {
      "cell_type": "code",
      "metadata": {
        "id": "52eB9A7zqBjZ",
        "colab_type": "code",
        "colab": {
          "base_uri": "https://localhost:8080/",
          "height": 85
        },
        "outputId": "2fee733f-0511-47d8-d033-a2d51d4c4962"
      },
      "source": [
        "s8\n",
        "s8.str.strip()\n",
        "s8.str.len()"
      ],
      "execution_count": null,
      "outputs": [
        {
          "output_type": "execute_result",
          "data": {
            "text/plain": [
              "0     5\n",
              "1     5\n",
              "2    14\n",
              "dtype: int64"
            ]
          },
          "metadata": {
            "tags": []
          },
          "execution_count": 299
        }
      ]
    }
  ]
}